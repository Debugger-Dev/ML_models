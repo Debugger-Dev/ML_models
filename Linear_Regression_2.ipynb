{
  "nbformat": 4,
  "nbformat_minor": 0,
  "metadata": {
    "colab": {
      "name": "Linear_Regression_2",
      "provenance": [],
      "collapsed_sections": [],
      "authorship_tag": "ABX9TyMBxEATDWdb1KdwPBu0AD8n",
      "include_colab_link": true
    },
    "kernelspec": {
      "name": "python3",
      "display_name": "Python 3"
    },
    "language_info": {
      "name": "python"
    }
  },
  "cells": [
    {
      "cell_type": "markdown",
      "metadata": {
        "id": "view-in-github",
        "colab_type": "text"
      },
      "source": [
        "<a href=\"https://colab.research.google.com/github/Debugger-Dev/ML_models/blob/main/Linear_Regression_2.ipynb\" target=\"_parent\"><img src=\"https://colab.research.google.com/assets/colab-badge.svg\" alt=\"Open In Colab\"/></a>"
      ]
    },
    {
      "cell_type": "code",
      "source": [
        "#Dataset Preparation\n",
        "import numpy as np\n",
        "from sklearn.model_selection import train_test_split\n",
        "from sklearn import datasets\n",
        "import matplotlib.pyplot as plt\n",
        "import seaborn as sns"
      ],
      "metadata": {
        "id": "-a8Iv_RU8Tf0"
      },
      "execution_count": 1,
      "outputs": []
    },
    {
      "cell_type": "code",
      "source": [
        "X,y=datasets.make_regression(n_samples=200,n_features=1,noise=20,random_state=4)\n",
        "X_train,X_test,y_train,y_test=train_test_split(X,y,test_size=0.2,random_state=1000)"
      ],
      "metadata": {
        "id": "n9BasLeH8qfp"
      },
      "execution_count": 2,
      "outputs": []
    },
    {
      "cell_type": "code",
      "execution_count": 13,
      "metadata": {
        "id": "8O47Kzx66_UA"
      },
      "outputs": [],
      "source": [
        "class LinearRegression:\n",
        "\n",
        "  def __init__(self,lr=0.01,n_iters=1000): \n",
        "    self.lr=lr\n",
        "    self.n_iters=n_iters   #no of iteration for gradient decent\n",
        "    self.weight=None     #m\n",
        "    self.bias=None       #c\n",
        "\n",
        "  def fit(self,X,y):\n",
        "    n_sample,n_feature=X_train.shape\n",
        "    #initial weight and bias =0\n",
        "    self.weight=np.zeros(n_feature)\n",
        "    self.bias= 0 \n",
        "\n",
        "    #gradient decent and learning rate\n",
        "    for _ in range(self.n_iters):\n",
        "      #y_pred= mx +c\n",
        "      y_predicted=np.dot(X,self.weight) + self.bias\n",
        "      \n",
        "\n",
        "      #update the weight and bias by partial derivating wrt MSE\n",
        "      dw = (1/n_sample) *2* np.dot(X.T , (y_predicted-y))\n",
        "      db = (1/n_sample) *2* np.sum(y_predicted-y)\n",
        "\n",
        "      #w=w-lr*w\n",
        "      #b=b-lr*b\n",
        "      self.weight -= self.lr*dw\n",
        "      self.bias -= self.lr*db\n",
        "\n",
        "  def predict(self,X):\n",
        "    y_predicted=np.dot(X,self.weight)+ self.bias\n",
        "    return y_predicted\n"
      ]
    },
    {
      "cell_type": "code",
      "source": [
        "regressor=LinearRegression()\n",
        "regressor.fit(X_train,y_train)\n",
        "predicted=regressor.predict(X_test)"
      ],
      "metadata": {
        "id": "A98VHqFLDGHx"
      },
      "execution_count": 14,
      "outputs": []
    },
    {
      "cell_type": "code",
      "source": [
        "def mse(y_true,y_predicted):\n",
        "  return np.mean((y_predicted-y_true)**2)"
      ],
      "metadata": {
        "id": "w4XWyi7bDzbR"
      },
      "execution_count": 15,
      "outputs": []
    },
    {
      "cell_type": "code",
      "source": [
        "mse(y_test,predicted)"
      ],
      "metadata": {
        "colab": {
          "base_uri": "https://localhost:8080/"
        },
        "id": "Th45DWPlEB-m",
        "outputId": "d8b79cea-dd16-4e02-e32d-269b92ce1496"
      },
      "execution_count": 16,
      "outputs": [
        {
          "output_type": "execute_result",
          "data": {
            "text/plain": [
              "454.9431223696935"
            ]
          },
          "metadata": {},
          "execution_count": 16
        }
      ]
    },
    {
      "cell_type": "code",
      "source": [
        "#plotting\n",
        "y_plot_line=regressor.predict(X)\n",
        "cmap=plt.get_cmap(\"Accent\")\n",
        "m1=plt.scatter(X_train,y_train,color=cmap(0.8))\n",
        "m2=plt.scatter(X_test,y_test,color=cmap(0.2))\n",
        "plt.plot(X,y_plot_line,color=\"Blue\",label=\"Prediction\")\n",
        "plt.show()"
      ],
      "metadata": {
        "colab": {
          "base_uri": "https://localhost:8080/",
          "height": 265
        },
        "id": "aHvcmeIyElLb",
        "outputId": "01a3bf5f-654b-4200-d61e-013372dd453f"
      },
      "execution_count": 17,
      "outputs": [
        {
          "output_type": "display_data",
          "data": {
            "text/plain": [
              "<Figure size 432x288 with 1 Axes>"
            ],
            "image/png": "[encoded data removed]"
          },
          "metadata": {
            "needs_background": "light"
          }
        }
      ]
    }
  ]
}