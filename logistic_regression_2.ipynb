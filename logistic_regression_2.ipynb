{
  "nbformat": 4,
  "nbformat_minor": 0,
  "metadata": {
    "colab": {
      "name": "logistic_regression_2",
      "provenance": [],
      "collapsed_sections": [],
      "authorship_tag": "ABX9TyObnDXul95E2lQJkgkhbWyT",
      "include_colab_link": true
    },
    "kernelspec": {
      "name": "python3",
      "display_name": "Python 3"
    },
    "language_info": {
      "name": "python"
    }
  },
  "cells": [
    {
      "cell_type": "markdown",
      "metadata": {
        "id": "view-in-github",
        "colab_type": "text"
      },
      "source": [
        "<a href=\"https://colab.research.google.com/github/Debugger-Dev/ML_models/blob/main/logistic_regression_2.ipynb\" target=\"_parent\"><img src=\"https://colab.research.google.com/assets/colab-badge.svg\" alt=\"Open In Colab\"/></a>"
      ]
    },
    {
      "cell_type": "code",
      "source": [
        "class LogisticRegression:\n",
        "\n",
        "  def __init__(self,lr=0.0001,n_iters=1000):\n",
        "    self.lr=lr\n",
        "    self.n_iters=n_iters\n",
        "    self.weight=None\n",
        "    self.bias=None\n",
        "\n",
        "  def _sigmoid(self,x):\n",
        "    return 1/(1 + np.exp(x))\n",
        "\n",
        "  def fit(self,X,y):\n",
        "    n_samples,n_features= X.shape\n",
        "    self.weight=np.zeros(n_features)\n",
        "    self.bias=0\n",
        "\n",
        "    for _ in range(self.n_iters):\n",
        "      linear_model=np.dot(X,self.weight) + self.bias\n",
        "      y_predicted=self._sigmoid(linear_model)\n",
        "\n",
        "      dw=(1/n_samples)*2*np.dot(X.T ,(y_predicted-y))\n",
        "      db=(1/n_samples)*2*np.sum(y_predicted-y)\n",
        "\n",
        "      self.weight -= self.lr*dw\n",
        "      self.bias -= self.lr*db\n",
        "  \n",
        "  def predict(self,X):\n",
        "    linear_model=np.dot(X,self.weight) + self.bias\n",
        "    y_predicted=self._sigmoid(linear_model)\n",
        "    y_predicted_class= [1 if i>0.5 else 0 for i in y_predicted]\n",
        "    return y_predicted_class"
      ],
      "metadata": {
        "id": "fA8lCRaFbXP8"
      },
      "execution_count": 11,
      "outputs": []
    },
    {
      "cell_type": "code",
      "source": [
        "import numpy as np\n",
        "import matplotlib.pyplot as plt\n",
        "from sklearn.model_selection import train_test_split\n",
        "from sklearn import datasets\n",
        "\n",
        "bc=datasets.load_breast_cancer()\n",
        "X,y=bc.data , bc.target\n",
        "\n",
        "X_train,X_test,y_train,y_test=train_test_split(X,y,test_size=0.2,random_state=1000)\n"
      ],
      "metadata": {
        "id": "LljCn9uS8KHz"
      },
      "execution_count": 12,
      "outputs": []
    },
    {
      "cell_type": "code",
      "source": [
        "def accuracy(y_true,y_pred):\n",
        "  return np.sum(y_true==y_pred)/len(y_true)"
      ],
      "metadata": {
        "id": "rugrt-HP9Yk-"
      },
      "execution_count": 13,
      "outputs": []
    },
    {
      "cell_type": "code",
      "source": [
        "regressor=LogisticRegression(0.0001,1000)\n",
        "regressor.fit(X_train,y_train)\n",
        "y_predict=regressor.predict(X_test)\n",
        "\n",
        "accuracy(y_test,y_predict)"
      ],
      "metadata": {
        "colab": {
          "base_uri": "https://localhost:8080/"
        },
        "id": "EumfL9Fh9zUS",
        "outputId": "02c30835-ee1a-4562-b189-75ddd58c60e9"
      },
      "execution_count": 14,
      "outputs": [
        {
          "output_type": "execute_result",
          "data": {
            "text/plain": [
              "0.6140350877192983"
            ]
          },
          "metadata": {},
          "execution_count": 14
        }
      ]
    }
  ]
}